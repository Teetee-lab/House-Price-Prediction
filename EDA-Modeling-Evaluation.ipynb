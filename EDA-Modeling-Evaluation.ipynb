{
 "cells": [
  {
   "cell_type": "markdown",
   "metadata": {},
   "source": [
    "I began with a baseline that predicts only the mean house price from the training data for each house, but this model does very poorly (of course). A linear regression model on the numeric columns has an R-Squared Score of 0.78. I tried a Ridge regression model to try to manage the multicollinearity between my features but it did not perform any better. In the future I will try to use more features and maybe encode some of the discrete features."
   ]
  },
  {
   "cell_type": "code",
   "execution_count": 1,
   "metadata": {},
   "outputs": [
    {
     "ename": "ModuleNotFoundError",
     "evalue": "No module named 'eli5'",
     "output_type": "error",
     "traceback": [
      "\u001b[0;31m---------------------------------------------------------------------------\u001b[0m",
      "\u001b[0;31mModuleNotFoundError\u001b[0m                       Traceback (most recent call last)",
      "\u001b[0;32m<ipython-input-1-85250c98aea5>\u001b[0m in \u001b[0;36m<module>\u001b[0;34m\u001b[0m\n\u001b[1;32m     14\u001b[0m \u001b[0;32mfrom\u001b[0m \u001b[0msklearn\u001b[0m\u001b[0;34m.\u001b[0m\u001b[0mmetrics\u001b[0m \u001b[0;32mimport\u001b[0m \u001b[0mmean_absolute_error\u001b[0m\u001b[0;34m\u001b[0m\u001b[0;34m\u001b[0m\u001b[0m\n\u001b[1;32m     15\u001b[0m \u001b[0;34m\u001b[0m\u001b[0m\n\u001b[0;32m---> 16\u001b[0;31m \u001b[0;32mimport\u001b[0m \u001b[0meli5\u001b[0m\u001b[0;34m\u001b[0m\u001b[0;34m\u001b[0m\u001b[0m\n\u001b[0m\u001b[1;32m     17\u001b[0m \u001b[0;32mfrom\u001b[0m \u001b[0meli5\u001b[0m\u001b[0;34m.\u001b[0m\u001b[0msklearn\u001b[0m \u001b[0;32mimport\u001b[0m \u001b[0mPermutationImportance\u001b[0m\u001b[0;34m\u001b[0m\u001b[0;34m\u001b[0m\u001b[0m\n",
      "\u001b[0;31mModuleNotFoundError\u001b[0m: No module named 'eli5'"
     ]
    }
   ],
   "source": [
    "# Imports\n",
    "import pandas as pd\n",
    "import numpy as np\n",
    "\n",
    "import matplotlib.pyplot as plt\n",
    "import seaborn as sns; sns.set()\n",
    "\n",
    "from sklearn.model_selection import train_test_split\n",
    "from sklearn.preprocessing import RobustScaler\n",
    "from sklearn.linear_model import LinearRegression\n",
    "from sklearn.linear_model import Ridge\n",
    "\n",
    "from sklearn.metrics import r2_score\n",
    "from sklearn.metrics import mean_absolute_error\n",
    "\n",
    "import eli5\n",
    "from eli5.sklearn import PermutationImportance"
   ]
  },
  {
   "cell_type": "code",
   "execution_count": null,
   "metadata": {},
   "outputs": [],
   "source": [
    "df = pd.read_csv('train.csv')"
   ]
  },
  {
   "cell_type": "code",
   "execution_count": null,
   "metadata": {},
   "outputs": [],
   "source": [
    "df.head()"
   ]
  },
  {
   "cell_type": "code",
   "execution_count": null,
   "metadata": {},
   "outputs": [],
   "source": [
    "df.info()"
   ]
  },
  {
   "cell_type": "code",
   "execution_count": null,
   "metadata": {
    "scrolled": true
   },
   "outputs": [],
   "source": [
    "df.describe()"
   ]
  },
  {
   "cell_type": "markdown",
   "metadata": {},
   "source": [
    "Feature engineering"
   ]
  },
  {
   "cell_type": "code",
   "execution_count": null,
   "metadata": {},
   "outputs": [],
   "source": [
    "def address_nas(test):\n",
    "    ## Drop observations with non-used homes\n",
    "    df = test[~test.SaleType.isin(['New', 'COD'])].copy()\n",
    "    df = df[~df.Electrical.isna()]\n",
    "    \n",
    "    ## Create new variables\n",
    "    \n",
    "    # Fix alley variable\n",
    "    df['HasAlley'] =np.where((df.Alley.str.contains(\"Grvl|Pave\")), 1,0)\n",
    "\n",
    "    # Fix pool variable\n",
    "    df['HasPool'] = np.where((df.PoolArea > 0), 1,0)\n",
    "\n",
    "    # Fix fence variable\n",
    "    df['HasFence'] = np.where((~df.Fence.isna()), 1,0)\n",
    "    \n",
    "    # Create Has Fire Place\n",
    "    df['HasFirePlace'] =np.where((df.Fireplaces > 0), 1,0)\n",
    "    \n",
    "    # Has porch\n",
    "    test = df.columns.tolist()\n",
    "    porch_vars = [k for k in test if 'Porch' in k]\n",
    "    df['HasPorch'] = 0\n",
    "    df.loc[df[porch_vars].any(axis='columns'), 'HasPorch']=1\n",
    "    \n",
    "    # Has basement\n",
    "    df['HasBasement'] = np.where((~df.BsmtExposure.isna()), 1,0)\n",
    "    \n",
    "    # Create Has Garage\n",
    "    df['HasGarage'] = np.where((df.GarageArea > 0), 1, 0)\n",
    "    \n",
    "    # Create ratio of space per car\n",
    "    df['GarageAreaPerCar'] = df.GarageArea/df.GarageCars\n",
    "    \n",
    "    # Create ratio of space per room\n",
    "    df['AverageRoomSize'] = df.GrLivArea/df.TotRmsAbvGrd\n",
    "    \n",
    "    # Create hasfinishedbsmt\n",
    "    df['HasFinishedBsmt'] = np.where(df.BsmtFinSF1 > 0, 1, 0)\n",
    "    \n",
    "    # create % basement finished\n",
    "    df['BsmtPerFinished'] = (df.BsmtFinSF1 + df.BsmtFinSF2)/df.TotalBsmtSF\n",
    "    df.BsmtPerFinished.fillna(0,inplace=True)\n",
    "       \n",
    "    df['HasCentralAir'] = np.where(df.CentralAir=='Y',1,0)\n",
    "    df['GasAirHeat']  = np.where(df.Heating == 'GasA', 1, 0)\n",
    "    df['SBboxElectric'] = np.where(df.Electrical == 'SBrkr', 1, 0)\n",
    "    df['HasDeck'] = np.where(df.WoodDeckSF > 0, 1, 0)\n",
    "    df['HasRemod'] = np.where(df.YearBuilt==df.YearRemodAdd, 1, 0)\n",
    "    \n",
    "    df['HouseAge'] = df.YrSold - df.YearBuilt\n",
    "    df['TimeSinceRemodel'] = df.YrSold - df.YearRemodAdd\n",
    "\n",
    "    df['RemodFiveYrs'] = np.where((df.YearBuilt!=df.YearRemodAdd )&( df.HouseAge > 5) & (df.TimeSinceRemodel <=5),1,0)\n",
    "    df['GaragebuiltWHouse'] = np.where(df.YearBuilt==df.GarageYrBlt, 1, 0)\n",
    "    \n",
    "    ## Fill nas\n",
    "\n",
    "    df.GarageAreaPerCar.fillna(0, inplace=True)\n",
    "    df.LotFrontage.fillna(0, inplace=True)\n",
    "    df.GarageFinish.fillna('Unf', inplace=True)\n",
    "    df.MasVnrArea.fillna(0, inplace = True)\n",
    "    \n",
    "    ## Drop columns\n",
    "    df.drop(columns = ['Id'], inplace=True)\n",
    "    df.drop(columns = ['Alley'], inplace=True)\n",
    "    df.drop(columns = ['GarageType'], inplace=True)\n",
    "#    df.drop(columns = ['GarageArea'], inplace=True)\n",
    "    df.drop(columns = [\"MiscFeature\", \"MiscVal\"], inplace = True)\n",
    "    df.drop(columns = ['Fence'], inplace=True)\n",
    "    df.drop(columns = ['Fireplaces', 'FireplaceQu'], inplace=True)\n",
    "    df.drop(columns = ['BsmtExposure'], inplace = True)\n",
    "    df.drop(columns = ['CentralAir', 'Electrical', 'Heating', 'WoodDeckSF'], inplace = True)\n",
    "    df.drop(columns = ['YearBuilt', 'GarageYrBlt', 'YearRemodAdd'], inplace = True)\n",
    "    df.drop(columns = ['PoolArea', 'PoolQC'], inplace=True)\n",
    "    df.drop(columns = ['BsmtFinSF1', 'BsmtFinSF2'], inplace=True)\n",
    "        \n",
    "    test = df.columns.tolist()\n",
    "    redundant = [k for k in test if ('Qual' in k or 'Cond' in k) and (\"Overall\" not in k) and (k!= \"SaleCondition\")]\n",
    "    df.drop(columns = redundant, inplace = True )\n",
    "    \n",
    "    test = df.columns.tolist()\n",
    "    type_col = [k for k in test if 'Type' in k]\n",
    "    df.drop(columns = type_col, inplace = True )\n",
    "    \n",
    "    df.drop(columns = porch_vars, inplace = True)\n",
    "    \n",
    "    return df\n"
   ]
  },
  {
   "cell_type": "code",
   "execution_count": null,
   "metadata": {},
   "outputs": [],
   "source": [
    "df = address_nas(df)\n",
    "df_final = df.select_dtypes(exclude='object')"
   ]
  },
  {
   "cell_type": "markdown",
   "metadata": {},
   "source": [
    "Explore Target Variable"
   ]
  },
  {
   "cell_type": "code",
   "execution_count": null,
   "metadata": {},
   "outputs": [],
   "source": [
    "# plotting the distribution of the target variable with a boxplot\n",
    "plt.figure(figsize=(10,8))\n",
    "sns.boxplot(x=df_final['SalePrice'])\n",
    "plt.title(\"Boxplot for Target Variable\")\n",
    "plt.xlabel(\"Price in Dollars\")\n",
    "plt.show()"
   ]
  },
  {
   "cell_type": "code",
   "execution_count": null,
   "metadata": {},
   "outputs": [],
   "source": [
    "df.corr()['SalePrice'].values"
   ]
  },
  {
   "cell_type": "code",
   "execution_count": null,
   "metadata": {},
   "outputs": [],
   "source": [
    "plt.figure(figsize=(11,14))\n",
    "sns.heatmap(df_final.corr()[['SalePrice']], xticklabels=True, yticklabels=True, square=True)\n",
    "plt.title(\"Correlation of Each Independent Variable with the Target Variable\", wrap=True, pad=20)\n",
    "plt.tight_layout()\n",
    "plt.show()"
   ]
  },
  {
   "cell_type": "markdown",
   "metadata": {},
   "source": [
    "Explore relationship between sale price and highest correlated variables"
   ]
  },
  {
   "cell_type": "code",
   "execution_count": null,
   "metadata": {},
   "outputs": [],
   "source": [
    "from itertools import islice\n",
    "import matplotlib.image as mpimg\n",
    "import os\n",
    "\n",
    "# Get correlation with Sale Price. \n",
    "# Filter variables that have over abs(.4) correlation\n",
    "# Remove Sale Price from list of variables\n",
    "test = df_final.corr()[['SalePrice']].sort_values(by='SalePrice',ascending=False)\n",
    "keep = test.loc[abs(test.SalePrice) > .4].index.to_list()\n",
    "keep.remove('SalePrice')\n",
    "\n",
    "# split variable list into three separate lists, stored in one list named Output\n",
    "length_to_split = [5, 5, 3] \n",
    "Inputt = iter(keep) \n",
    "Output = [list(islice(Inputt, elem)) \n",
    "          for elem in length_to_split] \n",
    "\n",
    "# Create three different pair grids using the different variable lists in Output\n",
    "g0 = sns.PairGrid(df_final, y_vars=[\"SalePrice\"], x_vars=Output[0], height=5)\n",
    "g0.map(sns.scatterplot, color=\".3\")\n",
    "                                                               \n",
    "g1 = sns.PairGrid(df_final, y_vars=[\"SalePrice\"], x_vars=Output[1], height=5)\n",
    "g1.map(sns.scatterplot, color=\".3\")\n",
    "\n",
    "g2 = sns.PairGrid(df_final, y_vars=[\"SalePrice\"], x_vars=Output[2], height=5)\n",
    "g2.map(sns.scatterplot, color=\".3\",)\n",
    "                                                                                                        \n",
    "# save figs temporarily    \n",
    "g0.savefig('g0.png')\n",
    "plt.close(g0.fig)\n",
    "\n",
    "g1.savefig('g1.png')\n",
    "plt.close(g1.fig)\n",
    "\n",
    "g2.savefig('g2.png')\n",
    "plt.close(g2.fig)\n",
    "\n",
    "# Create figure with subplots\n",
    "f, axarr = plt.subplots(3, 1, figsize=(25, 16))\n",
    "\n",
    "# Manualy construct image by reading in and stacking the saved images into one file\n",
    "axarr[0].imshow(mpimg.imread('g0.png'))\n",
    "axarr[0].set_title(\"\\n\".join([\"Display of Independent Variables Highly Correlated with Sales Price\\n\"]))\n",
    "axarr[1].imshow(mpimg.imread('g1.png'))\n",
    "axarr[2].imshow(mpimg.imread('g2.png'))\n",
    "\n",
    "# turn off x and y axis on master figure\n",
    "[ax.set_axis_off() for ax in axarr.ravel()]\n",
    "\n",
    "# save file\n",
    "plt.tight_layout()\n",
    "plt.show()\n",
    "\n",
    "# remove temporary png files\n",
    "os.remove('g0.png')\n",
    "os.remove('g1.png')\n",
    "os.remove('g2.png')\n"
   ]
  },
  {
   "cell_type": "markdown",
   "metadata": {},
   "source": [
    "Examine relationship between Sale Price, Condition, and Sqftage of Home"
   ]
  },
  {
   "cell_type": "code",
   "execution_count": null,
   "metadata": {},
   "outputs": [],
   "source": [
    "fig = plt.figure(figsize=(16, 10), dpi=80) \n",
    "chart = sns.scatterplot(x='GrLivArea', y='SalePrice', data = df_final,\n",
    "                        hue='OverallQual', alpha = .7)\n",
    "fig.suptitle(\"The Positive Correlations between Home Sale Price,\\n Sq Footage and Quality Rating\", fontsize=26)\n",
    "plt.tight_layout()\n",
    "plt.show()"
   ]
  },
  {
   "cell_type": "markdown",
   "metadata": {},
   "source": [
    "Prepping data to model:"
   ]
  },
  {
   "cell_type": "code",
   "execution_count": null,
   "metadata": {
    "scrolled": true
   },
   "outputs": [],
   "source": [
    "df_final.head()"
   ]
  },
  {
   "cell_type": "code",
   "execution_count": null,
   "metadata": {},
   "outputs": [],
   "source": [
    "def summarize_dataframe(df):\n",
    "    summary = pd.DataFrame(df.dtypes,columns=['dtypes'])\n",
    "    summary = summary.reset_index()\n",
    "    summary['Name'] = summary['index']\n",
    "    summary = summary[['Name','dtypes']]\n",
    "    summary['Missing'] = df.isnull().sum().values    \n",
    "    summary['Uniques'] = df.nunique().values\n",
    "    return summary"
   ]
  },
  {
   "cell_type": "code",
   "execution_count": null,
   "metadata": {},
   "outputs": [],
   "source": [
    "summarize_dataframe(df_final)"
   ]
  },
  {
   "cell_type": "code",
   "execution_count": null,
   "metadata": {},
   "outputs": [],
   "source": [
    "# Splitting my data into X and Y\n",
    "target = ['SalePrice']\n",
    "\n",
    "X = df_final.drop(columns=target)\n",
    "y = df_final[target]\n",
    "\n",
    "# Creating a split in my data for training and testing\n",
    "X_train, X_test, y_train, y_test = train_test_split(X, y, test_size=0.33, \n",
    "                                                    random_state=42)"
   ]
  },
  {
   "cell_type": "markdown",
   "metadata": {},
   "source": [
    "Modeling:"
   ]
  },
  {
   "cell_type": "code",
   "execution_count": null,
   "metadata": {},
   "outputs": [],
   "source": [
    "# Model-less baseline\n",
    "y_mean_train = y_train.mean()\n",
    "\n",
    "baseline_y_pred_train = ([y_mean_train]*len(y_train))\n",
    "baseline_y_pred_test = ([y_mean_train]*len(y_test))"
   ]
  },
  {
   "cell_type": "code",
   "execution_count": null,
   "metadata": {},
   "outputs": [],
   "source": [
    "print(f\"Training R2: {r2_score(y_train, baseline_y_pred_train)}\")\n",
    "print(f\"Testing R2: {r2_score(y_test, baseline_y_pred_test)}\")\n",
    "print(\"---\")\n",
    "print(f\"Training MAE: {mean_absolute_error(y_train, baseline_y_pred_train)}\")\n",
    "print(f\"Testing MAE: {mean_absolute_error(y_test, baseline_y_pred_test)}\")"
   ]
  },
  {
   "cell_type": "code",
   "execution_count": null,
   "metadata": {},
   "outputs": [],
   "source": [
    "lr = LinearRegression()"
   ]
  },
  {
   "cell_type": "code",
   "execution_count": null,
   "metadata": {},
   "outputs": [],
   "source": [
    "lr.fit(X_train, y_train)"
   ]
  },
  {
   "cell_type": "code",
   "execution_count": null,
   "metadata": {},
   "outputs": [],
   "source": [
    "y_pred_train = lr.predict(X_train)\n",
    "y_pred_test = lr.predict(X_test)"
   ]
  },
  {
   "cell_type": "code",
   "execution_count": null,
   "metadata": {},
   "outputs": [],
   "source": [
    "len(y_pred_test)"
   ]
  },
  {
   "cell_type": "code",
   "execution_count": null,
   "metadata": {},
   "outputs": [],
   "source": [
    "print(f\"Training R2: {r2_score(y_train, y_pred_train)}\")\n",
    "print(f\"Testing R2: {r2_score(y_test, y_pred_test)}\")\n",
    "print(\"---\")\n",
    "print(f\"Training MAE: {mean_absolute_error(y_train, y_pred_train)}\")\n",
    "print(f\"Testing MAE: {mean_absolute_error(y_test, y_pred_test)}\")"
   ]
  },
  {
   "cell_type": "code",
   "execution_count": null,
   "metadata": {},
   "outputs": [],
   "source": [
    "plt.figure(figsize=(12,10))\n",
    "sns.heatmap(X_train.corr(), xticklabels=True, yticklabels=True)\n",
    "plt.title(\"Exploring Correlation Between Features\", pad = 20)\n",
    "plt.tight_layout()\n",
    "plt.show()"
   ]
  },
  {
   "cell_type": "code",
   "execution_count": null,
   "metadata": {},
   "outputs": [],
   "source": [
    "ridge = Ridge(random_state=42)"
   ]
  },
  {
   "cell_type": "code",
   "execution_count": null,
   "metadata": {},
   "outputs": [],
   "source": [
    "ridge.fit(X_train, y_train)\n",
    "\n",
    "ridge_y_pred_train = ridge.predict(X_train)\n",
    "ridge_y_pred_test = ridge.predict(X_test)"
   ]
  },
  {
   "cell_type": "code",
   "execution_count": null,
   "metadata": {},
   "outputs": [],
   "source": [
    "print(f\"Training R2: {r2_score(y_train, ridge_y_pred_train)}\")\n",
    "print(f\"Testing R2: {r2_score(y_test, ridge_y_pred_test)}\")\n",
    "print(\"---\")\n",
    "print(f\"Training MAE: {mean_absolute_error(y_train, ridge_y_pred_train)}\")\n",
    "print(f\"Testing MAE: {mean_absolute_error(y_test, ridge_y_pred_test)}\")"
   ]
  },
  {
   "cell_type": "markdown",
   "metadata": {},
   "source": [
    "Checking Feature Importance"
   ]
  },
  {
   "cell_type": "code",
   "execution_count": null,
   "metadata": {},
   "outputs": [],
   "source": [
    "perm = PermutationImportance(ridge, random_state=1).fit(X_test, y_test)\n",
    "eli5.show_weights(perm, feature_names = X_train.columns.tolist(), top=None)"
   ]
  },
  {
   "cell_type": "markdown",
   "metadata": {},
   "source": [
    "Next steps: remove some features, perhaps by doing elasticnet instead of just ridge"
   ]
  }
 ],
 "metadata": {
  "kernelspec": {
   "display_name": "Python 3",
   "language": "python",
   "name": "python3"
  },
  "language_info": {
   "codemirror_mode": {
    "name": "ipython",
    "version": 3
   },
   "file_extension": ".py",
   "mimetype": "text/x-python",
   "name": "python",
   "nbconvert_exporter": "python",
   "pygments_lexer": "ipython3",
   "version": "3.8.5"
  },
  "toc": {
   "base_numbering": 1,
   "nav_menu": {},
   "number_sections": true,
   "sideBar": true,
   "skip_h1_title": false,
   "title_cell": "Table of Contents",
   "title_sidebar": "Contents",
   "toc_cell": false,
   "toc_position": {},
   "toc_section_display": true,
   "toc_window_display": false
  },
  "varInspector": {
   "cols": {
    "lenName": 16,
    "lenType": 16,
    "lenVar": 40
   },
   "kernels_config": {
    "python": {
     "delete_cmd_postfix": "",
     "delete_cmd_prefix": "del ",
     "library": "var_list.py",
     "varRefreshCmd": "print(var_dic_list())"
    },
    "r": {
     "delete_cmd_postfix": ") ",
     "delete_cmd_prefix": "rm(",
     "library": "var_list.r",
     "varRefreshCmd": "cat(var_dic_list()) "
    }
   },
   "types_to_exclude": [
    "module",
    "function",
    "builtin_function_or_method",
    "instance",
    "_Feature"
   ],
   "window_display": false
  }
 },
 "nbformat": 4,
 "nbformat_minor": 4
}
